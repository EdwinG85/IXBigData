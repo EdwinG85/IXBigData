{
  "nbformat": 4,
  "nbformat_minor": 0,
  "metadata": {
    "colab": {
      "name": "Trabajo CTIC.ipynb",
      "version": "0.3.2",
      "provenance": [],
      "collapsed_sections": []
    },
    "kernelspec": {
      "name": "python3",
      "display_name": "Python 3"
    }
  },
  "cells": [
    {
      "metadata": {
        "id": "gj9YikQ5EWTQ",
        "colab_type": "text"
      },
      "cell_type": "markdown",
      "source": [
        "## trabajo ctic\n",
        "Integrantes:\n",
        "* Edwin Mallqui\n",
        "* Jazmina Maza\n",
        "* Romel Suarez\n",
        "* Paul\n"
      ]
    },
    {
      "metadata": {
        "id": "iw8QSs7FwFuT",
        "colab_type": "text"
      },
      "cell_type": "markdown",
      "source": [
        "#ANTECEDENTES\n",
        "\n"
      ]
    },
    {
      "metadata": {
        "id": "j5Atj9qTEwno",
        "colab_type": "text"
      },
      "cell_type": "markdown",
      "source": [
        "# URGEN\n",
        "APLICATIVO QUE CONECTA LAS FERRETERÍAS CON LOS PROYECTOS DE CONSTRUCCION\n",
        "\n",
        "---\n",
        "\n",
        "![texto alternativo](https://www.importancia.org/wp-content/uploads/apps.jpg)\n",
        "\n",
        "\n",
        "---\n",
        "\n",
        "## Objetivos\n",
        "* Disminuir el tiempo de atención de los requerimientos de los proyectos de construcción en un 50% en un periodo de x.\n",
        "* Disminuir la pérdida de horas-hombre de trabajo debido a la falta de determinada herramienta o accesorio que restringe el normal funcionamiento del proyecto.\n",
        "* Utilizar herramientas como Big Data, Geolocalización y Streaming para desarrollar el proceso de funcionamiento del Aplicativo.\n",
        "\n",
        "- Optimizar procesos de "
      ]
    },
    {
      "metadata": {
        "id": "hRiFI2yYIhGd",
        "colab_type": "text"
      },
      "cell_type": "markdown",
      "source": [
        "### Beneficios\n",
        "\n",
        "\n",
        "1.   Tiempo de entrega más rápido.\n",
        "2.   Ahorro en el trasporte de materiales de construcción.\n",
        "3.   Facil acceso y compra de materiales de construcción.\n",
        "4.   Seguimiento de los materiales de construcción adqueridos (seguimiento GPS del vehiculo que transporta los materiales).\n",
        "5.   Ubicar facilmente las ferreterias que tienen en stock lo que se necesita y dentro de un ambito geografico con la posibilidad de realizar compras online.\n",
        "6. Entregas de equipos y materiales mucho mas rápido, con tan solo dar un click.\n",
        "7. Desarrollo de un nuevo canal de venta mucho mas eficiente que ayudara a las medianas ferreterías a digital izar sus ventas.\n",
        "\n"
      ]
    },
    {
      "metadata": {
        "id": "1CL0mZVFvuHc",
        "colab_type": "text"
      },
      "cell_type": "markdown",
      "source": [
        "**CASO DE USO**\n",
        "\n",
        "Con Big Data a partir de la geolocalización del cliente y las ferreterias registradas se determinará un modelo matemático que mejorará el control de los activos y fijación dinámica de precios en función de la demanda y los costos logistícos de productos del rubro ferretero.\n",
        "\n",
        "Además creará reportes de ventas con actualización diaria para mejorar el control y optimización de inventarios."
      ]
    },
    {
      "metadata": {
        "id": "ViwElVxrNqfc",
        "colab_type": "text"
      },
      "cell_type": "markdown",
      "source": [
        "**¿POR QUÉ APLICAR BIG DATA?**\n",
        "\n",
        "**1.- Volumen**\n",
        "\n",
        "- Más de 1 millón de clientes a nivel nacional.\n",
        "- Más de 3,000 ferreterias físicas registradas en SUNAT y debido al crecimiento en el sector ferretero en un 128% en ventas online en el 2018. \n",
        "- Más de 1millón de productos del rubro ferretero para distribuirlo.\n",
        "\n",
        "\n",
        "**2.- Velocidad**\n",
        "\n",
        "- Se necesita obtener la información cercana en tiempo real cuando el personal de logistica de proyecto necesita abastecerse de algún producto en el rubro ferretero.\n",
        "\n",
        "\n",
        "**3.- Variedad**\n",
        "\n",
        "- Se genera datos estructurados cuando se realiza la venta de productos, atención al cliente, facturación; así como semi-estructurados provenientes del GPS, información de descargas de la app.\n",
        "\n",
        "\n",
        "\n",
        "\n"
      ]
    },
    {
      "metadata": {
        "id": "27qfgS68H6cc",
        "colab_type": "text"
      },
      "cell_type": "markdown",
      "source": [
        "**FUENTES DE INFORMACIÓN**\n",
        "\n",
        "**INTERNA**\n",
        "\n",
        "- Trabajaremos con la base de datos de clientes que tiene la empresa Dasegur.  \n",
        "- Informacion de Ventas y campañas.\n",
        "-  Informacion proporcionada por parte de organismos como la CCL, Promperu a las cuales la empresa DASEGUR esta asociada.\n",
        "-  Los datos que se generan a partir de las redes sociales de la empresa, el formulario ubicado en la pagina web, en el cual se registran para solicitar algún requerimiento, precios o información adicional.\n",
        "\n",
        "\n",
        "\n",
        "**EXTERNA**\n",
        "\n",
        "En cuanto a la fuente externa, se realizo scraping a las web de google maps, para identificar ferreterias en los principales distritos de la capital donde se encuentran ubicados los principales clientes que tiene la empresa. Con esta información de las ferreterias geolocalizadas, se puede enlazar el app con esas ubicaciones para encontrar ferreterias potenciales para encontrar productos solicitados.\n"
      ]
    },
    {
      "metadata": {
        "id": "icqoxe6qqeA4",
        "colab_type": "text"
      },
      "cell_type": "markdown",
      "source": [
        "Pasos para scrapear los datos de google maps:"
      ]
    },
    {
      "metadata": {
        "id": "I0dL2Aatu-lC",
        "colab_type": "code",
        "colab": {}
      },
      "cell_type": "code",
      "source": [
        ""
      ],
      "execution_count": 0,
      "outputs": []
    },
    {
      "metadata": {
        "id": "y4mYGFTZrR-v",
        "colab_type": "code",
        "colab": {}
      },
      "cell_type": "code",
      "source": [
        "# importar las siguientes librerias\n",
        "import urllib\n",
        "import urllib.request\n",
        "import json"
      ],
      "execution_count": 0,
      "outputs": []
    },
    {
      "metadata": {
        "id": "kzzmo9N9rldb",
        "colab_type": "code",
        "colab": {}
      },
      "cell_type": "code",
      "source": [
        "#Identificar los puntos de referencias para los siguientes distritos, porque a partir de ello se buscara en un radio de 5km\n",
        "#Miraflores           \"&location=-12.1088,-77.03615&radius=5000\"\n",
        "#Santiago De Surco    \"&location=-12.1294,-76.99930&radius=5000\"\n",
        "#San Isidro           \"&location=-12.0928,-77.01942&radius=5000\"\n",
        "#Lima                 \"&location=-12.0566,-77.04378&radius=5000\"\n",
        "#San Borja            \"&location=-12.0901,-77.01122&radius=5000\"\n",
        "#San Miguel           \"&location=-12.0770,-77.09353&radius=5000\"\n",
        "#Callao               \"&location=-12.0592,-77.12686&radius=5000\"\n",
        "#Ate                  \"&location=-12.0353,-76.957332&radius=5000\"\n",
        "#Los Olivos           \"&location=-11.9916,-77.071290&radius=5000\"\n",
        "#San Martin De Porres \"&location=-12.0200,-77.057657&radius=5000\"\n",
        "#La Molina            \"&location=-12.0730,-76.949573&radius=5000\""
      ],
      "execution_count": 0,
      "outputs": []
    },
    {
      "metadata": {
        "id": "ciTR4J-Dr5B5",
        "colab_type": "code",
        "colab": {}
      },
      "cell_type": "code",
      "source": [
        "# primer paso conseguir una api key para agregar al codigo.\n",
        "# se aplica el api de google maps, y se busca en un ratio de 5km\n",
        "googleGeocodeUrl = 'https://maps.googleapis.com/maps/api/place/textsearch/json?query='\n",
        "termino = \"ferreteria\"\n",
        "ubicacion = \"&location=-12.1088,-77.03615&radius=5000\"\n",
        "APIKEY = '&key='+'pegar aca el api de una cuenta' #aca pegar el key del api de google place"
      ],
      "execution_count": 0,
      "outputs": []
    },
    {
      "metadata": {
        "id": "iIhijwUAsDqh",
        "colab_type": "code",
        "colab": {}
      },
      "cell_type": "code",
      "source": [
        "# se genera un archivo json de la busqueda\n",
        "url = googleGeocodeUrl + termino + ubicacion + APIKEY\n",
        "json_response = urllib.request.urlopen(url)\n",
        "busqueda = json_response.read().decode('utf-8')\n",
        "busquedajson = json.loads(busqueda)"
      ],
      "execution_count": 0,
      "outputs": []
    },
    {
      "metadata": {
        "id": "u9weByo2spkC",
        "colab_type": "code",
        "outputId": "55555d31-8374-4890-c829-0ea3966cc733",
        "colab": {
          "base_uri": "https://localhost:8080/",
          "height": 697
        }
      },
      "cell_type": "code",
      "source": [
        "#finalmente se guarda en un archivo csv\n",
        "archivolugares = open('ferreterias_miraflores.csv','w')\n",
        "for lugar in busquedajson['results']:\n",
        "    print(lugar['name'])\n",
        "    print(lugar['geometry']['location'])\n",
        "    archivolugares.write(lugar['name']+','+str(lugar['geometry']['location']['lng'])+','+str(lugar['geometry']['location']['lat'])+'\\n')\n",
        "archivolugares.close()"
      ],
      "execution_count": 0,
      "outputs": [
        {
          "output_type": "stream",
          "text": [
            "FERRETERIA LA PRIMAVERA SA\n",
            "{'lat': -12.1461043, 'lng': -77.021817}\n",
            "Ferreteria Chema\n",
            "{'lat': -12.1159988, 'lng': -77.0353315}\n",
            "Ferreteria el Condor\n",
            "{'lat': -12.110007, 'lng': -77.048806}\n",
            "Ferreteria\n",
            "{'lat': -12.1229627, 'lng': -77.02966959999999}\n",
            "Ferretería Daga\n",
            "{'lat': -12.1147306, 'lng': -77.0443682}\n",
            "Matizados y Ferretería \"Juan\"\n",
            "{'lat': -12.1398627, 'lng': -76.9935912}\n",
            "FERRETERIA CENTRAL.COM SAC\n",
            "{'lat': -12.0988766, 'lng': -77.0315822}\n",
            "Ferreteria Madeci S.R.L.\n",
            "{'lat': -12.066375, 'lng': -77.0377676}\n",
            "Ferretería JV Comercial\n",
            "{'lat': -12.101967, 'lng': -76.994249}\n",
            "Ferreteria Bravo\n",
            "{'lat': -12.0997709, 'lng': -77.0363809}\n",
            "Ferreteria William\n",
            "{'lat': -12.1184054, 'lng': -77.0243624}\n",
            "Ferreteria \"Juan\"\n",
            "{'lat': -12.1326911, 'lng': -77.01808659999999}\n",
            "Corporation La Sirena\n",
            "{'lat': -12.116777, 'lng': -77.025791}\n",
            "FERRETERIA PETIT THOUARS SAC\n",
            "{'lat': -12.0940999, 'lng': -77.0320009}\n",
            "Ferretería \"Claudia\"\n",
            "{'lat': -12.1156907, 'lng': -77.04466620000001}\n",
            "V & M distributor Ferretera Hidalgo E.I.R.L.\n",
            "{'lat': -12.086228, 'lng': -77.004087}\n",
            "Hardware Friends\n",
            "{'lat': -12.0860008, 'lng': -77.04392969999999}\n",
            "Ferretería Cesar\n",
            "{'lat': -12.0748509, 'lng': -77.037272}\n",
            "Ferretería Piemontesa\n",
            "{'lat': -12.1177487, 'lng': -77.02583109999999}\n",
            "Hardware Service La Mar S.R.L.\n",
            "{'lat': -12.0750463, 'lng': -77.08070839999999}\n"
          ],
          "name": "stdout"
        }
      ]
    },
    {
      "metadata": {
        "id": "dyck1wx1csno",
        "colab_type": "text"
      },
      "cell_type": "markdown",
      "source": [
        "**SIZING DE LA GENERACIÓN DE LA DATA**\n"
      ]
    },
    {
      "metadata": {
        "id": "clG70RNkUAn3",
        "colab_type": "code",
        "outputId": "70cc1897-f346-400a-bdc4-1a2e9ced52c6",
        "colab": {
          "base_uri": "https://localhost:8080/",
          "height": 34
        }
      },
      "cell_type": "code",
      "source": [
        "(11+595+5+32)*3"
      ],
      "execution_count": 0,
      "outputs": [
        {
          "output_type": "execute_result",
          "data": {
            "text/plain": [
              "1929"
            ]
          },
          "metadata": {
            "tags": []
          },
          "execution_count": 1
        }
      ]
    },
    {
      "metadata": {
        "id": "LML_ace1cBwL",
        "colab_type": "text"
      },
      "cell_type": "markdown",
      "source": [
        "**DISEÑO DE LA ARQUITECTURA CONCEPTUAL**\n",
        "\n",
        "![texto alternativo](https://lh3.googleusercontent.com/pcn9vGnWeVjeS_EuCad5_8cX5asrW0oxp7k4cpwjghU7L5kd0IGmiUcnaaz5M2cDo_xSRaNdkNedQRFAboHc-yl28frPDPTXlQgC8V-GDBdAsLL5CZO7RpC4N2aBxrLM0NE54hhiYtlsh0M2s5iDy8b8rGlYgucSUj8DH1DuQnW8LZgNCp446hR8n4lO9FxpQFzyCc709ttMn7ZPi-vCgb8ITG1T1JBVHbWK2QOVHUY28OV1eerCsVWxRvW87tnVBh9qwdwN542fRdfRa55brPtkUsXSRtyOfBlhsn4d3bWsXTvt3niDPg4cbT3JJeuknGEKMmOHxAP9El1ePoy5eFgbQ_ywp6s0vUp3QxBFD1bycOzVnh_cCrml5DHUn4uZOT1pt42P8RMeF76rDQUc7wixDWnjIaBcSMEB5djRh67Ch_B3JgQdgKjdR3e1Vm9sPvrvAL05h5CKtDW4zmNiMPHVjZMTiKluT3vWYT81wywHLs2uVhfZ6lYhrS9l1Z0Cxa_EKRy8hT0DBN_ypiUjKQkk6d2ec1OrbLQ4PZR9Nnt0ixa6rgdBUfPXEGKUON-6vMwUEXmedUe9CvAdah9qxxTG1SrjbLMwE7bcW74ZQbnHwxwOLP6HUXk1pBUXH40ovlXl6tpwtbd_L4LLQFkOpbtOEQ=w1241-h657-no)\n",
        "\n",
        "\n",
        "\n",
        "\n",
        "\n",
        "\n",
        "\n"
      ]
    },
    {
      "metadata": {
        "id": "9ixVKsXnt38l",
        "colab_type": "text"
      },
      "cell_type": "markdown",
      "source": [
        "**TECNOLÓGICA**\n",
        "\n",
        "![texto alternativo](https://lh3.googleusercontent.com/yxy-cr7JrKDTv5-YiZ9ABMQ6duFWLHaH8hob7qrkYhm66aFsc-3qVo9c6lOCbqdxdXXyogBTSWOOW04CYLGdSAROf-oNfBGRbrib4McezhKmMSicGQRvKCVlWAIqnptU82PFZu7W82xPDBnSXQuf1f_mIrKqLK1nmClUMz4RcJKYrtb8A1MjYow0j81Ke0Sjk0XMdNO3Idge-zf4oha79b-bwP0qOJyC54d_-_WQCrGhQ31ULMA4c9ymVSlhTHDkxtgibZ0ZUZ1JGv_6xg-fTHF-tJgy5aSf_vOnIO_7k7o8KnvET_U4Oshj5xdOkLxqTqtdfDuYnQoNtXkexB9-JwgP0rnKLELXzZQPeU6Wz7K6yZtoBnHJ4zJLVDhLo1gUEGKptxRfAaeVcc5v90h2yWPOBJOeKhpepkcJMkeIDg_e8Czwzp56CcDyHLub_y6V8Cn4Jrddzfot_ZRHGSicGKY6Y17qyweezH8ntdl68r65pLWWHIQRvNS37v8aO0-i72_Ywf1--naSptt9Si8X1Fktv0uPs2QaZf5CeUlkVIYMtYwVtUEM7Ly3ql-bKemQjgfThtJSp7XmWeoqx2Z_WgCguZ30NDzFlsD7zexnaoDlaB6Dt8UkkKniqPY5_XYIptM3bN8ruzGmN57wunBymGgndA=w1575-h938-no)\n",
        "\n"
      ]
    },
    {
      "metadata": {
        "id": "2X8DKYzC2CQK",
        "colab_type": "text"
      },
      "cell_type": "markdown",
      "source": [
        "\n",
        "\n",
        "*   Data Scientis:\n",
        "*   Data Engineer:\n",
        "*   Data Architect:\n",
        "*   Data Arquitect / Big Data \n",
        "\n",
        "\n"
      ]
    },
    {
      "metadata": {
        "id": "S-pvTPWNDp_f",
        "colab_type": "text"
      },
      "cell_type": "markdown",
      "source": [
        "Paso de creación del proyecto Cyberdata - en google cloud:\n",
        "\n",
        "Ejecutando en el Shell, la sentencia para la creación de las instancias:\n",
        "\n"
      ]
    },
    {
      "metadata": {
        "id": "agTZB15xD7KO",
        "colab_type": "code",
        "colab": {}
      },
      "cell_type": "code",
      "source": [
        "gcloud beta dataproc clusters create cluster-cyberdata --subnet default --zone us-west1-a --master-machine-type n1-standard-2 --master-boot-disk-size 200 --num-workers 2 --worker-machine-type n1-standard-2 --worker-boot-disk-size 100 --optional-components=ANACONDA,JUPYTER --image-version 1.3-deb9 --tags http-server,https-server,jupyter-port,hadoop-port,spark-port --project cyberdata"
      ],
      "execution_count": 0,
      "outputs": []
    },
    {
      "metadata": {
        "id": "av0TZpzmD-8l",
        "colab_type": "text"
      },
      "cell_type": "markdown",
      "source": [
        "Creando el firewall:"
      ]
    },
    {
      "metadata": {
        "id": "bZsqJve8EDSP",
        "colab_type": "code",
        "colab": {}
      },
      "cell_type": "code",
      "source": [
        "gcloud compute --project=midyear-arcade-228503 firewall-rules create puertocyberdata --direction=INGRESS --priority=10 --network=default --action=ALLOW --rules=tcp:8123 --source-ranges=0.0.0.0/0 --target-tags=puertocyberdata"
      ],
      "execution_count": 0,
      "outputs": []
    },
    {
      "metadata": {
        "id": "SKaTtYUiy8QP",
        "colab_type": "code",
        "colab": {}
      },
      "cell_type": "code",
      "source": [
        ""
      ],
      "execution_count": 0,
      "outputs": []
    },
    {
      "metadata": {
        "id": "mYDKGAnTy7xu",
        "colab_type": "text"
      },
      "cell_type": "markdown",
      "source": [
        ""
      ]
    },
    {
      "metadata": {
        "id": "MSWWUEBHDp3Z",
        "colab_type": "text"
      },
      "cell_type": "markdown",
      "source": [
        "Una vez habilitado, ya está listo para ejecutar el notebook jupyter"
      ]
    },
    {
      "metadata": {
        "id": "-19FrY7rDptS",
        "colab_type": "text"
      },
      "cell_type": "markdown",
      "source": [
        "----------------- subir los archivos en CSV al Hive y HDFS"
      ]
    },
    {
      "metadata": {
        "id": "0g6eEw8aEW0Q",
        "colab_type": "code",
        "cellView": "code",
        "colab": {}
      },
      "cell_type": "code",
      "source": [
        "#@title Default title text\n",
        "#Construyendo las rutas de los ficheros csv.\n",
        "hdfs dfs -ls /\n",
        "hdfs dfs -mkdir /landing\n",
        "hdfs dfs -mkdir /staging\n",
        "hdfs dfs -mkdir /visual\n",
        "hdfs dfs -ls /\n",
        "#Conexión a hive\n",
        "beeline -u jdbc:hive2://localhost:10000/urgen"
      ],
      "execution_count": 0,
      "outputs": []
    },
    {
      "metadata": {
        "id": "P8KRgWc5y5MD",
        "colab_type": "code",
        "cellView": "both",
        "colab": {}
      },
      "cell_type": "code",
      "source": [
        "#Creación de Landing\n",
        "hdfs dfs -mkdir /landing/Clientes\n",
        "hdfs dfs -mkdir /landing/Productos\n",
        "hdfs dfs -mkdir /landing/Ventas\n",
        "//Listar las carpetas creadas\n",
        "hdfs dfs -ls /landing"
      ],
      "execution_count": 0,
      "outputs": []
    },
    {
      "metadata": {
        "id": "_6xeGKEd_T4N",
        "colab_type": "code",
        "colab": {}
      },
      "cell_type": "code",
      "source": [
        "#Subiendo PRODUCTOS2.csv a la carpeta: /landing/interno/productos\n",
        "hdfs dfs -put PRODUCTOS2.csv /landing/interno/Productos\n",
        "//Comprobando subida\n",
        "hdfs dfs -ls /interno/productos\n",
        "\n",
        "//Creando en hive la tabla\n",
        "beeline -u jdbc:hive2://localhost:10000/urgen\n",
        "\n",
        "use urgen;\n",
        "CREATE EXTERNAL TABLE IF NOT EXISTS  urgen.productos(\n",
        "   IDPRODUCTO String,\n",
        "   DESCRIPCION String,\n",
        "    UND String,\n",
        "    PU int,\n",
        "   STOCK int\n",
        ")\n",
        "COMMENT 'PRODUCTOSF'\n",
        "ROW FORMAT SERDE 'org.apache.hadoop.hive.serde2.OpenCSVSerde'\n",
        "WITH SERDEPROPERTIES (\n",
        "\"separatorChar\" = \",\",\n",
        "\"escapeChar\"=\"\\\\\"\n",
        ") \n",
        "STORED AS TEXTFILE\n",
        "LOCATION '/landing/interno/productos'\n",
        "TBLPROPERTIES (\"skip.header.line.count\"=\"1\")\n",
        ";"
      ],
      "execution_count": 0,
      "outputs": []
    },
    {
      "metadata": {
        "id": "gi5kyLmR_tsl",
        "colab_type": "code",
        "colab": {}
      },
      "cell_type": "code",
      "source": [
        "#Subiendo clientes.csv a la carpeta: /landing/interno/Clientes\n",
        "hdfs dfs -put clientes.csv /landing/interno/Clientes\n",
        "//Comprobando subida\n",
        "hdfs dfs -ls /interno/Clientes\n",
        "\n",
        "//Creando en hive la tabla\n",
        "beeline -u jdbc:hive2://localhost:10000/urgen\n",
        "      \n",
        "use urgen;\n",
        "CREATE EXTERNAL TABLE IF NOT EXISTS  urgen.clientes( \n",
        "    ruc int,        \n",
        "    razon_social String,\n",
        "    direccion String,\n",
        "    distrito  String,\n",
        "    telefono int,\n",
        "    email String,\n",
        "    web String,\n",
        "    num_empleados int,\n",
        "    ventas_anuales int,\n",
        "    actividad String,\n",
        "    rubro String\n",
        ")\n",
        "COMMENT 'tabla_externa_clientes details'\n",
        "ROW FORMAT SERDE 'org.apache.hadoop.hive.serde2.OpenCSVSerde'\n",
        "WITH SERDEPROPERTIES (\n",
        "\"separatorChar\" = \",\",\n",
        "\"escapeChar\"=\"\\\\\"\n",
        ") \n",
        "STORED AS TEXTFILE\n",
        "LOCATION '/landing/Clientes'\n",
        "TBLPROPERTIES (\"skip.header.line.count\"=\"1\")\n",
        "; \n"
      ],
      "execution_count": 0,
      "outputs": []
    },
    {
      "metadata": {
        "id": "vg0FBu0AA2TJ",
        "colab_type": "code",
        "colab": {}
      },
      "cell_type": "code",
      "source": [
        "#Subiendo ventas.csv a la carpeta: /landing/interno/Ventas\n",
        "hdfs dfs -put clientes.csv /landing/interno/Ventas\n",
        "//Comprobando subida\n",
        "hdfs dfs -ls /interno/Ventas\n",
        "\n",
        "//Creando en hive la tabla\n",
        "beeline -u jdbc:hive2://localhost:10000/urgen\n",
        "\n",
        "use urgen;\n",
        "CREATE EXTERNAL TABLE IF NOT EXISTS  urgen.ventas\n",
        "(   ruc int,        \n",
        "    id_venta String,\n",
        "    fecha_venta String,\n",
        "    id_producto String,\n",
        "    cantidad int,\n",
        "    unidad String,\n",
        "    precio int,\n",
        "    monto_total int,\n",
        "    sub_rubro String\n",
        ")\n",
        "COMMENT 'tabla_externa_ventas details'\n",
        "ROW FORMAT SERDE 'org.apache.hadoop.hive.serde2.OpenCSVSerde'\n",
        "WITH SERDEPROPERTIES (\n",
        "\"separatorChar\" = \",\",\n",
        "\"escapeChar\"=\"\\\\\"\n",
        ") \n",
        "STORED AS TEXTFILE\n",
        "LOCATION '/landing/interno/ventas'\n",
        "TBLPROPERTIES (\"skip.header.line.count\"=\"1\")\n",
        ";\n"
      ],
      "execution_count": 0,
      "outputs": []
    },
    {
      "metadata": {
        "id": "FZskeKHvB1yq",
        "colab_type": "code",
        "colab": {}
      },
      "cell_type": "code",
      "source": [
        "#Subiendo la data externa a la carpeta: /landing/externa\n",
        "hdfs dfs -put georef_ferr_lima.csv /landing/externo\n",
        "//Comprobar BD subida\n",
        "hdfs dfs -ls /landing/externo\n",
        "\n",
        "//Creando en hive la tabla\n",
        "beeline -u jdbc:hive2://localhost:10000/urgen\n",
        "\n",
        "use urgen;\n",
        "CREATE EXTERNAL TABLE IF NOT EXISTS  urgen.geo_ferr(\n",
        "    ferreteria String,\n",
        "    longitud String,\n",
        "    latitud String\n",
        ")\n",
        "COMMENT 'tabla_externa_geo_ref details'\n",
        "ROW FORMAT SERDE 'org.apache.hadoop.hive.serde2.OpenCSVSerde'\n",
        "WITH SERDEPROPERTIES (\n",
        "\"separatorChar\" = \",\",\n",
        "\"escapeChar\"=\"\\\\\"\n",
        ") \n",
        "STORED AS TEXTFILE\n",
        "LOCATION '/landing/externo'\n",
        "TBLPROPERTIES (\"skip.header.line.count\"=\"1\")\n",
        "\n",
        "\n"
      ],
      "execution_count": 0,
      "outputs": []
    },
    {
      "metadata": {
        "id": "VGVLBoJJ2LFe",
        "colab_type": "code",
        "colab": {}
      },
      "cell_type": "code",
      "source": [
        "#Creación de Staging\n",
        "hdfs dfs -mkdir /staging/estatica\n",
        "hdfs dfs -mkdir /staging/dinamica\n",
        "hdfs dfs -mkdir /landing/Ventas\n",
        "//Listar las carpetas creadas\n",
        "hdfs dfs -ls /staging"
      ],
      "execution_count": 0,
      "outputs": []
    },
    {
      "metadata": {
        "id": "6DiVZZ9PEjPH",
        "colab_type": "code",
        "cellView": "code",
        "colab": {}
      },
      "cell_type": "code",
      "source": [
        "#Creación de Visual\n",
        "hdfs dfs -mkdir /visual/rep1\n",
        "hdfs dfs -mkdir /visual/rep2\n",
        "//Listar las carpetas creadas\n",
        "hdfs dfs -ls /staging\n",
        "\n",
        "\n",
        "\n"
      ],
      "execution_count": 0,
      "outputs": []
    },
    {
      "metadata": {
        "id": "PfJoOASz3Ca7",
        "colab_type": "code",
        "colab": {}
      },
      "cell_type": "code",
      "source": [
        "#@title Default title text\n",
        "bbbb"
      ],
      "execution_count": 0,
      "outputs": []
    }
  ]
}