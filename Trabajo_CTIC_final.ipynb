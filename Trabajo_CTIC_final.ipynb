{
  "nbformat": 4,
  "nbformat_minor": 0,
  "metadata": {
    "colab": {
      "name": "Trabajo CTIC.ipynb",
      "version": "0.3.2",
      "provenance": [],
      "collapsed_sections": []
    },
    "kernelspec": {
      "name": "python3",
      "display_name": "Python 3"
    }
  },
  "cells": [
    {
      "metadata": {
        "id": "gj9YikQ5EWTQ",
        "colab_type": "text"
      },
      "cell_type": "markdown",
      "source": [
        "## trabajo ctic\n",
        "Integrantes:\n",
        "* Edwin Mallqui\n",
        "* Jazmina Maza\n",
        "* Romel Suarez\n",
        "* Paul\n"
      ]
    },
    {
      "metadata": {
        "id": "j5Atj9qTEwno",
        "colab_type": "text"
      },
      "cell_type": "markdown",
      "source": [
        "# URGEN\n",
        "Es una plataforma que conecta a los proyectos de construcción con las ferreterías más cercanas al proyecto a través de la tecnología como el Big Data y la Geo localización, utilizando economía colaborativa para el suministro de materiales y/o herramientas a los proyectos de construcción  \n",
        "\n",
        "---\n",
        "\n",
        "![texto alternativo](https://www.importancia.org/wp-content/uploads/apps.jpg)\n",
        "\n",
        "\n",
        "---\n",
        "\n",
        "## Objetivos\n",
        "* Disminuir el tiempo de atención de los requerimientos de los proyectos de construcción en un 50% en un periodo de 6 meses.\n",
        "* Disminuir la pérdida de horas-hombre de trabajo debido a la falta de determinada herramienta o accesorio que restringe el normal funcionamiento del proyecto.\n",
        "* Utilizar herramientas como Big Data, Geolocalización y Streaming para desarrollar el proceso de funcionamiento del Aplicativo.\n"
      ]
    },
    {
      "metadata": {
        "id": "hRiFI2yYIhGd",
        "colab_type": "text"
      },
      "cell_type": "markdown",
      "source": [
        "### Beneficios\n",
        "\n",
        "\n",
        "1.   Tiempo de entrega más rápido.\n",
        "2.   Ahorro en el trasporte de materiales de construcción.\n",
        "3.   Facil acceso y compra de materiales de construcción.\n",
        "4.   Seguimiento de los materiales de construcción adqueridos (seguimiento GPS del vehiculo que transporta los materiales).\n",
        "5.   Ubicar facilmente las ferreterias que tienen en stock lo que se necesita y dentro de un ambito geografico con la posibilidad de realizar compras online.\n",
        "6. Entregas de equipos y materiales mucho mas rápido, con tan solo dar un click.\n",
        "7. Desarrollo de un nuevo canal de venta mucho mas eficiente que ayudara a las medianas ferreterías a digital izar sus ventas.\n",
        "\n"
      ]
    },
    {
      "metadata": {
        "id": "1CL0mZVFvuHc",
        "colab_type": "text"
      },
      "cell_type": "markdown",
      "source": [
        "**CASO DE USO**\n",
        "\n",
        "Con Big Data a partir de la geolocalización del cliente y las ferreterias registradas se determinará un modelo matemático que mejorará el control de los activos y fijación dinámica de precios en función de la demanda y los costos logistícos de productos del rubro ferretero.\n",
        "\n",
        "Además creará reportes de ventas con actualización diaria para mejorar el control y optimización de inventarios."
      ]
    },
    {
      "metadata": {
        "id": "ViwElVxrNqfc",
        "colab_type": "text"
      },
      "cell_type": "markdown",
      "source": [
        "**¿POR QUÉ APLICAR BIG DATA?**\n",
        "\n",
        "**1.- Volumen**\n",
        "\n",
        "- Más de 1 millón de clientes a nivel nacional.\n",
        "- Más de 3,000 ferreterias físicas registradas en SUNAT y debido al crecimiento en el sector ferretero en un 128% en ventas online en el 2018. \n",
        "- Más de 1millón de productos del rubro ferretero para distribuirlo.\n",
        "\n",
        "\n",
        "**2.- Velocidad**\n",
        "\n",
        "- Se necesita obtener la información cercana en tiempo real cuando el personal de logistica de proyecto necesita abastecerse de algún producto en el rubro ferretero.\n",
        "\n",
        "\n",
        "**3.- Variedad**\n",
        "\n",
        "- Se genera datos estructurados cuando se realiza la venta de productos, atención al cliente, facturación; así como semi-estructurados provenientes del GPS, información de descargas de la app.\n",
        "\n",
        "\n",
        "\n",
        "\n"
      ]
    },
    {
      "metadata": {
        "id": "27qfgS68H6cc",
        "colab_type": "text"
      },
      "cell_type": "markdown",
      "source": [
        "**FUENTES DE INFORMACIÓN**\n",
        "\n",
        "**INTERNA**\n",
        "\n",
        "- Trabajaremos con la base de datos de clientes que tiene la empresa Dasegur.  \n",
        "- Informacion de Ventas y campañas.\n",
        "-  Informacion proporcionada por parte de organismos como la CCL, Promperu a las cuales la empresa DASEGUR esta asociada.\n",
        "-  Los datos que se generan a partir de las redes sociales de la empresa, el formulario ubicado en la pagina web, en el cual se registran para solicitar algún requerimiento, precios o información adicional.\n",
        "\n",
        "\n",
        "\n",
        "**EXTERNA**\n",
        "\n",
        "En cuanto a la fuente externa, se realizo scraping a las web de google maps, para identificar ferreterias en los principales distritos de la capital donde se encuentran ubicados los principales clientes que tiene la empresa. Con esta información de las ferreterias geolocalizadas, se puede enlazar el app con esas ubicaciones para encontrar ferreterias potenciales para encontrar productos solicitados.\n"
      ]
    },
    {
      "metadata": {
        "id": "icqoxe6qqeA4",
        "colab_type": "text"
      },
      "cell_type": "markdown",
      "source": [
        "Pasos para scrapear los datos de google maps:"
      ]
    },
    {
      "metadata": {
        "id": "I0dL2Aatu-lC",
        "colab_type": "code",
        "colab": {}
      },
      "cell_type": "code",
      "source": [
        ""
      ],
      "execution_count": 0,
      "outputs": []
    },
    {
      "metadata": {
        "id": "y4mYGFTZrR-v",
        "colab_type": "code",
        "colab": {}
      },
      "cell_type": "code",
      "source": [
        "# importar las siguientes librerias\n",
        "import urllib\n",
        "import urllib.request\n",
        "import json"
      ],
      "execution_count": 0,
      "outputs": []
    },
    {
      "metadata": {
        "id": "kzzmo9N9rldb",
        "colab_type": "code",
        "colab": {}
      },
      "cell_type": "code",
      "source": [
        "#Identificar los puntos de referencias para los siguientes distritos, porque a partir de ello se buscara en un radio de 5km\n",
        "#Miraflores           \"&location=-12.1088,-77.03615&radius=5000\"\n",
        "#Santiago De Surco    \"&location=-12.1294,-76.99930&radius=5000\"\n",
        "#San Isidro           \"&location=-12.0928,-77.01942&radius=5000\"\n",
        "#Lima                 \"&location=-12.0566,-77.04378&radius=5000\"\n",
        "#San Borja            \"&location=-12.0901,-77.01122&radius=5000\"\n",
        "#San Miguel           \"&location=-12.0770,-77.09353&radius=5000\"\n",
        "#Callao               \"&location=-12.0592,-77.12686&radius=5000\"\n",
        "#Ate                  \"&location=-12.0353,-76.957332&radius=5000\"\n",
        "#Los Olivos           \"&location=-11.9916,-77.071290&radius=5000\"\n",
        "#San Martin De Porres \"&location=-12.0200,-77.057657&radius=5000\"\n",
        "#La Molina            \"&location=-12.0730,-76.949573&radius=5000\""
      ],
      "execution_count": 0,
      "outputs": []
    },
    {
      "metadata": {
        "id": "ciTR4J-Dr5B5",
        "colab_type": "code",
        "colab": {}
      },
      "cell_type": "code",
      "source": [
        "# primer paso conseguir una api key para agregar al codigo.\n",
        "# se aplica el api de google maps, y se busca en un ratio de 5km\n",
        "googleGeocodeUrl = 'https://maps.googleapis.com/maps/api/place/textsearch/json?query='\n",
        "termino = \"ferreteria\"\n",
        "ubicacion = \"&location=-12.1088,-77.03615&radius=5000\"\n",
        "APIKEY = '&key='+'pegar aca el api de una cuenta' #aca pegar el key del api de google place"
      ],
      "execution_count": 0,
      "outputs": []
    },
    {
      "metadata": {
        "id": "iIhijwUAsDqh",
        "colab_type": "code",
        "colab": {}
      },
      "cell_type": "code",
      "source": [
        "# se genera un archivo json de la busqueda\n",
        "url = googleGeocodeUrl + termino + ubicacion + APIKEY\n",
        "json_response = urllib.request.urlopen(url)\n",
        "busqueda = json_response.read().decode('utf-8')\n",
        "busquedajson = json.loads(busqueda)"
      ],
      "execution_count": 0,
      "outputs": []
    },
    {
      "metadata": {
        "id": "u9weByo2spkC",
        "colab_type": "code",
        "outputId": "55555d31-8374-4890-c829-0ea3966cc733",
        "colab": {
          "base_uri": "https://localhost:8080/",
          "height": 697
        }
      },
      "cell_type": "code",
      "source": [
        "#finalmente se guarda en un archivo csv\n",
        "archivolugares = open('ferreterias_miraflores.csv','w')\n",
        "for lugar in busquedajson['results']:\n",
        "    print(lugar['name'])\n",
        "    print(lugar['geometry']['location'])\n",
        "    archivolugares.write(lugar['name']+','+str(lugar['geometry']['location']['lng'])+','+str(lugar['geometry']['location']['lat'])+'\\n')\n",
        "archivolugares.close()"
      ],
      "execution_count": 0,
      "outputs": [
        {
          "output_type": "stream",
          "text": [
            "FERRETERIA LA PRIMAVERA SA\n",
            "{'lat': -12.1461043, 'lng': -77.021817}\n",
            "Ferreteria Chema\n",
            "{'lat': -12.1159988, 'lng': -77.0353315}\n",
            "Ferreteria el Condor\n",
            "{'lat': -12.110007, 'lng': -77.048806}\n",
            "Ferreteria\n",
            "{'lat': -12.1229627, 'lng': -77.02966959999999}\n",
            "Ferretería Daga\n",
            "{'lat': -12.1147306, 'lng': -77.0443682}\n",
            "Matizados y Ferretería \"Juan\"\n",
            "{'lat': -12.1398627, 'lng': -76.9935912}\n",
            "FERRETERIA CENTRAL.COM SAC\n",
            "{'lat': -12.0988766, 'lng': -77.0315822}\n",
            "Ferreteria Madeci S.R.L.\n",
            "{'lat': -12.066375, 'lng': -77.0377676}\n",
            "Ferretería JV Comercial\n",
            "{'lat': -12.101967, 'lng': -76.994249}\n",
            "Ferreteria Bravo\n",
            "{'lat': -12.0997709, 'lng': -77.0363809}\n",
            "Ferreteria William\n",
            "{'lat': -12.1184054, 'lng': -77.0243624}\n",
            "Ferreteria \"Juan\"\n",
            "{'lat': -12.1326911, 'lng': -77.01808659999999}\n",
            "Corporation La Sirena\n",
            "{'lat': -12.116777, 'lng': -77.025791}\n",
            "FERRETERIA PETIT THOUARS SAC\n",
            "{'lat': -12.0940999, 'lng': -77.0320009}\n",
            "Ferretería \"Claudia\"\n",
            "{'lat': -12.1156907, 'lng': -77.04466620000001}\n",
            "V & M distributor Ferretera Hidalgo E.I.R.L.\n",
            "{'lat': -12.086228, 'lng': -77.004087}\n",
            "Hardware Friends\n",
            "{'lat': -12.0860008, 'lng': -77.04392969999999}\n",
            "Ferretería Cesar\n",
            "{'lat': -12.0748509, 'lng': -77.037272}\n",
            "Ferretería Piemontesa\n",
            "{'lat': -12.1177487, 'lng': -77.02583109999999}\n",
            "Hardware Service La Mar S.R.L.\n",
            "{'lat': -12.0750463, 'lng': -77.08070839999999}\n"
          ],
          "name": "stdout"
        }
      ]
    },
    {
      "metadata": {
        "id": "dyck1wx1csno",
        "colab_type": "text"
      },
      "cell_type": "markdown",
      "source": [
        "**SIZING DE LA GENERACIÓN DE LA DATA**\n"
      ]
    },
    {
      "metadata": {
        "id": "clG70RNkUAn3",
        "colab_type": "code",
        "outputId": "9361c0b6-f95e-411a-d492-ebf02624d0bb",
        "colab": {
          "base_uri": "https://localhost:8080/",
          "height": 34
        }
      },
      "cell_type": "code",
      "source": [
        "(11+ #archivo de ventas\n",
        " 595+ #archivo de clientes\n",
        " 5+# archivo georeferenciados\n",
        " 32 #archivo de productos\n",
        ")*3"
      ],
      "execution_count": 1,
      "outputs": [
        {
          "output_type": "execute_result",
          "data": {
            "text/plain": [
              "1929"
            ]
          },
          "metadata": {
            "tags": []
          },
          "execution_count": 1
        }
      ]
    },
    {
      "metadata": {
        "id": "LML_ace1cBwL",
        "colab_type": "text"
      },
      "cell_type": "markdown",
      "source": [
        "**DISEÑO DE LA ARQUITECTURA CONCEPTUAL**\n",
        "\n",
        "![texto alternativo](https://lh3.googleusercontent.com/pcn9vGnWeVjeS_EuCad5_8cX5asrW0oxp7k4cpwjghU7L5kd0IGmiUcnaaz5M2cDo_xSRaNdkNedQRFAboHc-yl28frPDPTXlQgC8V-GDBdAsLL5CZO7RpC4N2aBxrLM0NE54hhiYtlsh0M2s5iDy8b8rGlYgucSUj8DH1DuQnW8LZgNCp446hR8n4lO9FxpQFzyCc709ttMn7ZPi-vCgb8ITG1T1JBVHbWK2QOVHUY28OV1eerCsVWxRvW87tnVBh9qwdwN542fRdfRa55brPtkUsXSRtyOfBlhsn4d3bWsXTvt3niDPg4cbT3JJeuknGEKMmOHxAP9El1ePoy5eFgbQ_ywp6s0vUp3QxBFD1bycOzVnh_cCrml5DHUn4uZOT1pt42P8RMeF76rDQUc7wixDWnjIaBcSMEB5djRh67Ch_B3JgQdgKjdR3e1Vm9sPvrvAL05h5CKtDW4zmNiMPHVjZMTiKluT3vWYT81wywHLs2uVhfZ6lYhrS9l1Z0Cxa_EKRy8hT0DBN_ypiUjKQkk6d2ec1OrbLQ4PZR9Nnt0ixa6rgdBUfPXEGKUON-6vMwUEXmedUe9CvAdah9qxxTG1SrjbLMwE7bcW74ZQbnHwxwOLP6HUXk1pBUXH40ovlXl6tpwtbd_L4LLQFkOpbtOEQ=w1241-h657-no)\n",
        "\n",
        "\n",
        "\n",
        "\n",
        "\n",
        "\n",
        "\n"
      ]
    },
    {
      "metadata": {
        "id": "9ixVKsXnt38l",
        "colab_type": "text"
      },
      "cell_type": "markdown",
      "source": [
        "**TECNOLÓGICA**\n",
        "\n",
        "![texto alternativo](https://lh3.googleusercontent.com/yxy-cr7JrKDTv5-YiZ9ABMQ6duFWLHaH8hob7qrkYhm66aFsc-3qVo9c6lOCbqdxdXXyogBTSWOOW04CYLGdSAROf-oNfBGRbrib4McezhKmMSicGQRvKCVlWAIqnptU82PFZu7W82xPDBnSXQuf1f_mIrKqLK1nmClUMz4RcJKYrtb8A1MjYow0j81Ke0Sjk0XMdNO3Idge-zf4oha79b-bwP0qOJyC54d_-_WQCrGhQ31ULMA4c9ymVSlhTHDkxtgibZ0ZUZ1JGv_6xg-fTHF-tJgy5aSf_vOnIO_7k7o8KnvET_U4Oshj5xdOkLxqTqtdfDuYnQoNtXkexB9-JwgP0rnKLELXzZQPeU6Wz7K6yZtoBnHJ4zJLVDhLo1gUEGKptxRfAaeVcc5v90h2yWPOBJOeKhpepkcJMkeIDg_e8Czwzp56CcDyHLub_y6V8Cn4Jrddzfot_ZRHGSicGKY6Y17qyweezH8ntdl68r65pLWWHIQRvNS37v8aO0-i72_Ywf1--naSptt9Si8X1Fktv0uPs2QaZf5CeUlkVIYMtYwVtUEM7Ly3ql-bKemQjgfThtJSp7XmWeoqx2Z_WgCguZ30NDzFlsD7zexnaoDlaB6Dt8UkkKniqPY5_XYIptM3bN8ruzGmN57wunBymGgndA=w1575-h938-no)\n",
        "\n"
      ]
    },
    {
      "metadata": {
        "id": "2X8DKYzC2CQK",
        "colab_type": "text"
      },
      "cell_type": "markdown",
      "source": [
        "\n",
        "\n",
        "*   Data Scientis:\n",
        "*   Data Engineer:\n",
        "*   Data Architect:\n",
        "*   Data Arquitect / Big Data \n",
        "\n",
        "\n"
      ]
    },
    {
      "metadata": {
        "id": "S-pvTPWNDp_f",
        "colab_type": "text"
      },
      "cell_type": "markdown",
      "source": [
        "Paso de creación del proyecto Cyberdata - en google cloud:\n",
        "\n",
        "Ejecutando en el Shell, la sentencia para la creación de las instancias:\n",
        "\n"
      ]
    },
    {
      "metadata": {
        "id": "agTZB15xD7KO",
        "colab_type": "code",
        "colab": {}
      },
      "cell_type": "code",
      "source": [
        "gcloud beta dataproc clusters create cluster-cyberdata --subnet default --zone us-west1-a --master-machine-type n1-standard-2 --master-boot-disk-size 200 --num-workers 2 --worker-machine-type n1-standard-2 --worker-boot-disk-size 100 --optional-components=ANACONDA,JUPYTER --image-version 1.3-deb9 --tags http-server,https-server,jupyter-port,hadoop-port,spark-port --project cyberdata"
      ],
      "execution_count": 0,
      "outputs": []
    },
    {
      "metadata": {
        "id": "dMXj3T2ih_Yl",
        "colab_type": "text"
      },
      "cell_type": "markdown",
      "source": [
        "![texto alternativo](https://github.com/EdwinG85/IXBigData/blob/master/image001.png?raw=true)\n",
        "\n",
        "cluster\n",
        "\n",
        "![texto alternativo](https://github.com/EdwinG85/IXBigData/blob/master/image003.png?raw=true)"
      ]
    },
    {
      "metadata": {
        "id": "av0TZpzmD-8l",
        "colab_type": "text"
      },
      "cell_type": "markdown",
      "source": [
        "Creando el firewall:"
      ]
    },
    {
      "metadata": {
        "id": "bZsqJve8EDSP",
        "colab_type": "code",
        "colab": {}
      },
      "cell_type": "code",
      "source": [
        "gcloud compute --project=midyear-arcade-228503 firewall-rules create puertocyberdata --direction=INGRESS --priority=10 --network=default --action=ALLOW --rules=tcp:8123 --source-ranges=0.0.0.0/0 --target-tags=puertocyberdata"
      ],
      "execution_count": 0,
      "outputs": []
    },
    {
      "metadata": {
        "id": "UpG3ospYh_XB",
        "colab_type": "text"
      },
      "cell_type": "markdown",
      "source": [
        "![texto alternativo](https://github.com/EdwinG85/IXBigData/blob/master/image005.png?raw=true)\n",
        "\n",
        "______________________________________________________________________________\n",
        "\n",
        "![texto alternativo](https://github.com/EdwinG85/IXBigData/blob/master/image007.png?raw=true)"
      ]
    },
    {
      "metadata": {
        "id": "MSWWUEBHDp3Z",
        "colab_type": "text"
      },
      "cell_type": "markdown",
      "source": [
        "Una vez habilitado, ya está listo para ejecutar el notebook jupyter"
      ]
    },
    {
      "metadata": {
        "id": "wDafpAPdezy9",
        "colab_type": "text"
      },
      "cell_type": "markdown",
      "source": [
        "![texto alternativo](https://github.com/EdwinG85/IXBigData/blob/master/image009.png?raw=true)"
      ]
    },
    {
      "metadata": {
        "id": "SKaTtYUiy8QP",
        "colab_type": "code",
        "colab": {}
      },
      "cell_type": "code",
      "source": [
        ""
      ],
      "execution_count": 0,
      "outputs": []
    },
    {
      "metadata": {
        "id": "-19FrY7rDptS",
        "colab_type": "text"
      },
      "cell_type": "markdown",
      "source": [
        "----------------- subir los archivos en CSV al Hive y HDFS"
      ]
    },
    {
      "metadata": {
        "id": "0g6eEw8aEW0Q",
        "colab_type": "code",
        "cellView": "code",
        "colab": {}
      },
      "cell_type": "code",
      "source": [
        "#@title Default title text\n",
        "#Construyendo las rutas de los ficheros csv.\n",
        "hdfs dfs -ls /\n",
        "hdfs dfs -mkdir /landing\n",
        "hdfs dfs -mkdir /staging\n",
        "hdfs dfs -mkdir /visual\n",
        "hdfs dfs -ls /\n",
        "#Conexión a hive\n",
        "beeline -u jdbc:hive2://localhost:10000/urgen"
      ],
      "execution_count": 0,
      "outputs": []
    },
    {
      "metadata": {
        "id": "mYDKGAnTy7xu",
        "colab_type": "text"
      },
      "cell_type": "markdown",
      "source": [
        "![texto alternativo](https://github.com/EdwinG85/IXBigData/blob/master/image011.png?raw=true)"
      ]
    },
    {
      "metadata": {
        "id": "P8KRgWc5y5MD",
        "colab_type": "code",
        "cellView": "both",
        "colab": {}
      },
      "cell_type": "code",
      "source": [
        "#Creación de Landing\n",
        "hdfs dfs -mkdir /landing/Clientes\n",
        "hdfs dfs -mkdir /landing/Productos\n",
        "hdfs dfs -mkdir /landing/Ventas\n",
        "//Listar las carpetas creadas\n",
        "hdfs dfs -ls /landing"
      ],
      "execution_count": 0,
      "outputs": []
    },
    {
      "metadata": {
        "id": "GDlVKXa0lHdV",
        "colab_type": "text"
      },
      "cell_type": "markdown",
      "source": [
        "![texto alternativo](https://github.com/EdwinG85/IXBigData/blob/master/image013.png?raw=true)\n",
        "\n",
        "_______________________________________________________________________________\n",
        "\n",
        "![texto alternativo](https://github.com/EdwinG85/IXBigData/blob/master/image015.png?raw=true)"
      ]
    },
    {
      "metadata": {
        "id": "_6xeGKEd_T4N",
        "colab_type": "code",
        "colab": {}
      },
      "cell_type": "code",
      "source": [
        "#Subiendo PRODUCTOS2.csv a la carpeta: /landing/interno/productos\n",
        "hdfs dfs -put PRODUCTOS2.csv /landing/interno/Productos\n",
        "//Comprobando subida\n",
        "hdfs dfs -ls /interno/productos\n",
        "\n",
        "//Creando en hive la tabla\n",
        "beeline -u jdbc:hive2://localhost:10000/urgen\n",
        "\n",
        "use urgen;\n",
        "CREATE EXTERNAL TABLE IF NOT EXISTS  urgen.productos(\n",
        "   IDPRODUCTO String,\n",
        "   DESCRIPCION String,\n",
        "    UND String,\n",
        "    PU int,\n",
        "   STOCK int\n",
        ")\n",
        "COMMENT 'PRODUCTOSF'\n",
        "ROW FORMAT SERDE 'org.apache.hadoop.hive.serde2.OpenCSVSerde'\n",
        "WITH SERDEPROPERTIES (\n",
        "\"separatorChar\" = \",\",\n",
        "\"escapeChar\"=\"\\\\\"\n",
        ") \n",
        "STORED AS TEXTFILE\n",
        "LOCATION '/landing/interno/productos'\n",
        "TBLPROPERTIES (\"skip.header.line.count\"=\"1\")\n",
        ";"
      ],
      "execution_count": 0,
      "outputs": []
    },
    {
      "metadata": {
        "id": "v0etMxIHlXl1",
        "colab_type": "text"
      },
      "cell_type": "markdown",
      "source": [
        "![texto alternativo](https://github.com/EdwinG85/IXBigData/blob/master/image033.png?raw=true)"
      ]
    },
    {
      "metadata": {
        "id": "gi5kyLmR_tsl",
        "colab_type": "code",
        "colab": {}
      },
      "cell_type": "code",
      "source": [
        "#Subiendo clientes.csv a la carpeta: /landing/interno/Clientes\n",
        "hdfs dfs -put clientes.csv /landing/interno/Clientes\n",
        "//Comprobando subida\n",
        "hdfs dfs -ls /interno/Clientes\n",
        "\n",
        "//Creando en hive la tabla\n",
        "beeline -u jdbc:hive2://localhost:10000/urgen\n",
        "      \n",
        "use urgen;\n",
        "CREATE EXTERNAL TABLE IF NOT EXISTS  urgen.clientes( \n",
        "    ruc int,        \n",
        "    razon_social String,\n",
        "    direccion String,\n",
        "    distrito  String,\n",
        "    telefono int,\n",
        "    email String,\n",
        "    web String,\n",
        "    num_empleados int,\n",
        "    ventas_anuales int,\n",
        "    actividad String,\n",
        "    rubro String\n",
        ")\n",
        "COMMENT 'tabla_externa_clientes details'\n",
        "ROW FORMAT SERDE 'org.apache.hadoop.hive.serde2.OpenCSVSerde'\n",
        "WITH SERDEPROPERTIES (\n",
        "\"separatorChar\" = \",\",\n",
        "\"escapeChar\"=\"\\\\\"\n",
        ") \n",
        "STORED AS TEXTFILE\n",
        "LOCATION '/landing/Clientes'\n",
        "TBLPROPERTIES (\"skip.header.line.count\"=\"1\")\n",
        "; \n"
      ],
      "execution_count": 0,
      "outputs": []
    },
    {
      "metadata": {
        "id": "3gIZxY6UnxVU",
        "colab_type": "text"
      },
      "cell_type": "markdown",
      "source": [
        "![texto alternativo](https://github.com/EdwinG85/IXBigData/blob/master/image037.png?raw=true)"
      ]
    },
    {
      "metadata": {
        "id": "vg0FBu0AA2TJ",
        "colab_type": "code",
        "colab": {}
      },
      "cell_type": "code",
      "source": [
        "#Subiendo ventas.csv a la carpeta: /landing/interno/Ventas\n",
        "hdfs dfs -put clientes.csv /landing/interno/Ventas\n",
        "//Comprobando subida\n",
        "hdfs dfs -ls /interno/Ventas\n",
        "\n",
        "//Creando en hive la tabla\n",
        "beeline -u jdbc:hive2://localhost:10000/urgen\n",
        "\n",
        "use urgen;\n",
        "CREATE EXTERNAL TABLE IF NOT EXISTS  urgen.ventas\n",
        "(   ruc int,        \n",
        "    id_venta String,\n",
        "    fecha_venta String,\n",
        "    id_producto String,\n",
        "    cantidad int,\n",
        "    unidad String,\n",
        "    precio int,\n",
        "    monto_total int,\n",
        "    sub_rubro String\n",
        ")\n",
        "COMMENT 'tabla_externa_ventas details'\n",
        "ROW FORMAT SERDE 'org.apache.hadoop.hive.serde2.OpenCSVSerde'\n",
        "WITH SERDEPROPERTIES (\n",
        "\"separatorChar\" = \",\",\n",
        "\"escapeChar\"=\"\\\\\"\n",
        ") \n",
        "STORED AS TEXTFILE\n",
        "LOCATION '/landing/interno/ventas'\n",
        "TBLPROPERTIES (\"skip.header.line.count\"=\"1\")\n",
        ";\n"
      ],
      "execution_count": 0,
      "outputs": []
    },
    {
      "metadata": {
        "id": "nrloXDwQoHQi",
        "colab_type": "text"
      },
      "cell_type": "markdown",
      "source": [
        "![texto alternativo](https://github.com/EdwinG85/IXBigData/blob/master/image041.png?raw=true)"
      ]
    },
    {
      "metadata": {
        "id": "FZskeKHvB1yq",
        "colab_type": "code",
        "colab": {}
      },
      "cell_type": "code",
      "source": [
        "#Subiendo la data externa a la carpeta: /landing/externa\n",
        "hdfs dfs -put georef_ferr_lima.csv /landing/externo\n",
        "//Comprobar BD subida\n",
        "hdfs dfs -ls /landing/externo\n",
        "\n",
        "//Creando en hive la tabla\n",
        "beeline -u jdbc:hive2://localhost:10000/urgen\n",
        "\n",
        "use urgen;\n",
        "CREATE EXTERNAL TABLE IF NOT EXISTS  urgen.geo_ferr(\n",
        "    ferreteria String,\n",
        "    longitud String,\n",
        "    latitud String\n",
        ")\n",
        "COMMENT 'tabla_externa_geo_ref details'\n",
        "ROW FORMAT SERDE 'org.apache.hadoop.hive.serde2.OpenCSVSerde'\n",
        "WITH SERDEPROPERTIES (\n",
        "\"separatorChar\" = \",\",\n",
        "\"escapeChar\"=\"\\\\\"\n",
        ") \n",
        "STORED AS TEXTFILE\n",
        "LOCATION '/landing/externo'\n",
        "TBLPROPERTIES (\"skip.header.line.count\"=\"1\")\n",
        "\n",
        "\n"
      ],
      "execution_count": 0,
      "outputs": []
    },
    {
      "metadata": {
        "id": "Uf6n9AD3mgWf",
        "colab_type": "text"
      },
      "cell_type": "markdown",
      "source": [
        "![texto alternativo](https://github.com/EdwinG85/IXBigData/blob/master/image027.png?raw=true)"
      ]
    },
    {
      "metadata": {
        "id": "VGVLBoJJ2LFe",
        "colab_type": "code",
        "colab": {}
      },
      "cell_type": "code",
      "source": [
        "#Creación de Staging\n",
        "hdfs dfs -mkdir /staging/estatica\n",
        "hdfs dfs -mkdir /staging/dinamica\n",
        "//Listar las carpetas creadas\n",
        "hdfs dfs -ls /staging"
      ],
      "execution_count": 0,
      "outputs": []
    },
    {
      "metadata": {
        "id": "6DiVZZ9PEjPH",
        "colab_type": "code",
        "cellView": "code",
        "colab": {}
      },
      "cell_type": "code",
      "source": [
        "#Creación de Visual\n",
        "hdfs dfs -mkdir /visual/rep1\n",
        "hdfs dfs -mkdir /visual/rep2\n",
        "//Listar las carpetas creadas\n",
        "hdfs dfs -ls /staging\n",
        "\n",
        "\n",
        "\n"
      ],
      "execution_count": 0,
      "outputs": []
    },
    {
      "metadata": {
        "id": "jA9rGtl_kdtz",
        "colab_type": "text"
      },
      "cell_type": "markdown",
      "source": [
        "## Tipos de particiones\n",
        "\n",
        "Particion Estática:\n"
      ]
    },
    {
      "metadata": {
        "id": "jsCP0w8FpS0V",
        "colab_type": "code",
        "colab": {}
      },
      "cell_type": "code",
      "source": [
        "//ESTATICAS\n",
        "CREATE TABLE urgen.tabla_particion_estatica\n",
        "(\n",
        "    ruc String,\n",
        "    razon_social String,\n",
        "    distrito String,\n",
        "    ventas_anuales String,\n",
        "    actividad String\n",
        ")\n",
        "PARTITIONED BY (rubro STRING)\n",
        "STORED AS PARQUET\n",
        "LOCATION '/staging/estatica/tabla_particion_estatica';\n",
        "\n",
        "//Agregamos data\n",
        "insert into urgen.tabla_particion_estatica partition(rubro ='asesoria y consultoria')\n",
        "SELECT\n",
        "  ruc,razon_social,distrito,ventas_anuales,actividad\n",
        "FROM urgen.clientes;\n"
      ],
      "execution_count": 0,
      "outputs": []
    },
    {
      "metadata": {
        "id": "B8LiJnl8keIt",
        "colab_type": "text"
      },
      "cell_type": "markdown",
      "source": [
        "![texto alternativo](https://github.com/EdwinG85/IXBigData/blob/master/image047.png?raw=true)"
      ]
    },
    {
      "metadata": {
        "id": "jbtPPVMHkei7",
        "colab_type": "text"
      },
      "cell_type": "markdown",
      "source": [
        "Particion Dinamica"
      ]
    },
    {
      "metadata": {
        "id": "e3MchcK-pSzH",
        "colab_type": "code",
        "colab": {}
      },
      "cell_type": "code",
      "source": [
        "particion dinamica:\n",
        "//DINAMICAS\n",
        "CREATE TABLE urgen.tabla_particion_dinamica\n",
        "(\n",
        "    fecha_venta String,\n",
        "    sub_rubro String,\n",
        "    venta_total int\n",
        ")\n",
        "PARTITIONED BY (ruc STRING)\n",
        "STORED AS PARQUET\n",
        "LOCATION '/staging/dinamica/tabla_particion_dinamica';\n",
        "\n",
        "\n",
        "set hive.exec.dynamic.partition.mode=nonstrict;\n",
        "insert into table urgen.tabla_particion_dinamica partition (ruc)\n",
        "SELECT\n",
        "  fecha_venta,sub_rubro,cast(monto_total as int) as venta_total,ruc\n",
        "FROM urgen.ventas ;\n"
      ],
      "execution_count": 0,
      "outputs": []
    },
    {
      "metadata": {
        "id": "ZyJ6OA2Qkew8",
        "colab_type": "text"
      },
      "cell_type": "markdown",
      "source": [
        "![texto alternativo](https://github.com/EdwinG85/IXBigData/blob/master/image051.png?raw=true)\n",
        "\n",
        "\n",
        "___________________________________________________________________________\n",
        "\n",
        "![texto alternativo](https://github.com/EdwinG85/IXBigData/blob/master/image055.png?raw=true)"
      ]
    },
    {
      "metadata": {
        "id": "ploJaXRirpgI",
        "colab_type": "code",
        "colab": {}
      },
      "cell_type": "code",
      "source": [
        ""
      ],
      "execution_count": 0,
      "outputs": []
    },
    {
      "metadata": {
        "id": "D09I50gdke6O",
        "colab_type": "text"
      },
      "cell_type": "markdown",
      "source": [
        "# Reporte de BI\n",
        "\n",
        "![texto alternativo](data:image/png;base64,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)"
      ]
    },
    {
      "metadata": {
        "id": "8wIPjVg6rKj5",
        "colab_type": "text"
      },
      "cell_type": "markdown",
      "source": [
        "![texto alternativo](https://github.com/EdwinG85/IXBigData/blob/master/image057.png?raw=true)\n",
        "\n",
        "____________________________________________________________________\n",
        "\n",
        "![texto alternativo](https://github.com/EdwinG85/IXBigData/blob/master/image059.png?raw=true)\n",
        "\n",
        "______________________________________________________________________\n",
        "\n",
        "![texto alternativo](https://github.com/EdwinG85/IXBigData/blob/master/image061.png?raw=true)\n",
        "\n",
        "______________________________________________________________________\n",
        "\n",
        "![texto alternativo](https://github.com/EdwinG85/IXBigData/blob/master/image063.png?raw=true)\n",
        "\n",
        "______________________________________________________________________\n",
        "\n",
        "![texto alternativo](https://github.com/EdwinG85/IXBigData/blob/master/image065.png?raw=true)\n",
        "\n"
      ]
    },
    {
      "metadata": {
        "id": "5radM95Qkehk",
        "colab_type": "text"
      },
      "cell_type": "markdown",
      "source": [
        ""
      ]
    },
    {
      "metadata": {
        "id": "KN9dcwX8keHa",
        "colab_type": "text"
      },
      "cell_type": "markdown",
      "source": [
        ""
      ]
    }
  ]
}